{
 "cells": [
  {
   "cell_type": "markdown",
   "metadata": {},
   "source": [
    "# Data Preprocessing"
   ]
  },
  {
   "cell_type": "code",
   "execution_count": null,
   "metadata": {},
   "outputs": [],
   "source": [
    "import os\n",
    "\n",
    "path_data = {}\n",
    "\n",
    "# combines train and val data for better generalization\n",
    "path_data[\"train\"] = [os.path.join(root, file) for root, dirs, files in os.walk(\"DataSet/trainset\") for file in files] + [os.path.join(root, file) for root, dirs, files in os.walk(\"DataSet/validationset\") for file in files] \n",
    "path_data[\"test\"] = [os.path.join(root, file) for root, dirs, files in os.walk(\"DataSet/testset\") for file in files]"
   ]
  },
  {
   "cell_type": "code",
   "execution_count": null,
   "metadata": {},
   "outputs": [],
   "source": [
    "import pandas as pd\n",
    "import numpy as np\n",
    "import traces\n",
    "from datetime import timedelta\n",
    "from sklearn.preprocessing import StandardScaler\n",
    "\n",
    "data = {}  # dict to store X data for all phases\n",
    "\n",
    "for phase in [\"train\", \"test\"]:\n",
    "    # dframe to store X data of current phase\n",
    "    X_df = pd.DataFrame()\n",
    "    # array to store y data of current phase\n",
    "    y_array = []\n",
    "\n",
    "    # appends all user dframes to X dframe\n",
    "    for user_idx, f_path in enumerate(path_data[phase]):\n",
    "        # gets X data for current user csv (excluding first 2 columns)\n",
    "        data_df = pd.read_csv(f_path).iloc[:, 2:]\n",
    "        # converts from string to datetime64 format\n",
    "        data_df[\"specifictime\"] = pd.to_datetime(data_df[\"specifictime\"])\n",
    "\n",
    "        # linear interpolation\n",
    "        rescaled_df = pd.DataFrame()\n",
    "        for column in data_df.iloc[:, 1:]:\n",
    "            ts = list(zip(data_df.iloc[:, 0], data_df[column]))\n",
    "            ts = traces.TimeSeries(ts)\n",
    "            ts_rescaled = ts.sample(sampling_period=timedelta(minutes=5), interpolate='linear')\n",
    "            s = pd.Series([x[1] for x in ts_rescaled])\n",
    "            s = s.set_axis([x[0] for x in ts_rescaled])\n",
    "            rescaled_df[column] = s\n",
    "\n",
    "        # sets unique user id\n",
    "        rescaled_df[\"user_id\"] = str(user_idx)\n",
    "\n",
    "        # z-normalization\n",
    "        scaler = StandardScaler()\n",
    "        rescaled_df.iloc[:, :-1] = scaler.fit_transform(rescaled_df.iloc[:, :-1])\n",
    "\n",
    "        # pops out index for processing later\n",
    "        rescaled_df[\"specifictime\"] = rescaled_df.index\n",
    "\n",
    "        # adds to phase dframe\n",
    "        X_df = pd.concat([X_df, rescaled_df])\n",
    "\n",
    "        # gets y variable from file path\n",
    "        if \"UGE\" in f_path:\n",
    "            y_array.append(\"UGE\")\n",
    "        elif \"UBE\" in f_path:\n",
    "            y_array.append(\"UBE\")\n",
    "    \n",
    "    X_df.iloc[:, 1:-1] = X_df.iloc[:, 1:-1].astype(np.float64)\n",
    "    X_df = X_df.set_index([\"user_id\", \"specifictime\"])  # sets multi index\n",
    "    data[phase] = [X_df, np.array(y_array)]  # adds to phase dict"
   ]
  },
  {
   "cell_type": "code",
   "execution_count": null,
   "metadata": {},
   "outputs": [],
   "source": [
    "from sktime.datatypes import convert_to\n",
    "\n",
    "# converts to sktime nested_univ format for easier processing\n",
    "X_train_nested = convert_to(data[\"train\"][0], to_type=\"nested_univ\")\n",
    "y_train = data[\"train\"][1]\n",
    "X_test_nested = convert_to(data[\"test\"][0], to_type=\"nested_univ\")\n",
    "y_test = data[\"test\"][1]"
   ]
  },
  {
   "cell_type": "code",
   "execution_count": null,
   "metadata": {},
   "outputs": [],
   "source": [
    "from sktime.transformations.panel.padder import PaddingTransformer\n",
    "\n",
    "# train set low noise padding\n",
    "train_padder = PaddingTransformer(fill_value=1e-6)\n",
    "X_train_padded = train_padder.fit_transform(X_train_nested)"
   ]
  },
  {
   "cell_type": "code",
   "execution_count": null,
   "metadata": {},
   "outputs": [],
   "source": [
    "# gets train set pad length\n",
    "pad_length = X_train_padded.iloc[:, 0][0].shape[0]; pad_length"
   ]
  },
  {
   "cell_type": "code",
   "execution_count": null,
   "metadata": {},
   "outputs": [],
   "source": [
    "# pads test set to train set pad length\n",
    "test_padder = PaddingTransformer(pad_length = pad_length, fill_value=1e-6)\n",
    "X_test_padded = test_padder.fit_transform(X_test_nested)"
   ]
  },
  {
   "cell_type": "code",
   "execution_count": null,
   "metadata": {},
   "outputs": [],
   "source": [
    "# exports X variables to pickle (please run corresponding RNN file with same version of pandas)\n",
    "X_train_padded.to_pickle(\"X_train_znorm_padded_interpolated.pickle\")\n",
    "X_test_padded.to_pickle(\"X_test_znorm_padded_interpolated.pickle\")"
   ]
  },
  {
   "cell_type": "code",
   "execution_count": null,
   "metadata": {},
   "outputs": [],
   "source": [
    "# exports Y variables as numpy arrays\n",
    "np.save(\"y_train.npy\", y_train)\n",
    "np.save(\"y_test.npy\", y_test)"
   ]
  }
 ],
 "metadata": {
  "kernelspec": {
   "display_name": "Python 3 (ipykernel)",
   "language": "python",
   "name": "python3"
  },
  "language_info": {
   "codemirror_mode": {
    "name": "ipython",
    "version": 3
   },
   "file_extension": ".py",
   "mimetype": "text/x-python",
   "name": "python",
   "nbconvert_exporter": "python",
   "pygments_lexer": "ipython3",
   "version": "3.10.6"
  },
  "vscode": {
   "interpreter": {
    "hash": "3b8d8acc1b75aa90902e061799b176bb38fabc770f1d4237982d304d61b35f84"
   }
  }
 },
 "nbformat": 4,
 "nbformat_minor": 4
}
